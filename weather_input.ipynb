{
  "nbformat": 4,
  "nbformat_minor": 0,
  "metadata": {
    "colab": {
      "provenance": [],
      "authorship_tag": "ABX9TyMy4VS8teCCRJ+EfMZwXNhw",
      "include_colab_link": true
    },
    "kernelspec": {
      "name": "python3",
      "display_name": "Python 3"
    },
    "language_info": {
      "name": "python"
    }
  },
  "cells": [
    {
      "cell_type": "markdown",
      "metadata": {
        "id": "view-in-github",
        "colab_type": "text"
      },
      "source": [
        "<a href=\"https://colab.research.google.com/github/Javachip1823/COLAB/blob/main/weather_input.ipynb\" target=\"_parent\"><img src=\"https://colab.research.google.com/assets/colab-badge.svg\" alt=\"Open In Colab\"/></a>"
      ]
    },
    {
      "cell_type": "code",
      "source": [
        "with open('weather_input.txt', 'r') as file:\n",
        "    weather_data = file.readlines()\n",
        "\n",
        "for line in weather_data:\n",
        "    temp, humidity, wind_speed = map(float, line.strip().split())\n",
        "\n",
        "    metric = (0.5 * temp ** 2) - (0.2 * humidity) + (0.1 * wind_speed) - 15\n",
        "\n",
        "    if metric > 10:\n",
        "        condition = \"Sunny\"\n",
        "    elif 0 <= metric <= 10:\n",
        "        condition = \"Windy\"\n",
        "    elif -10 <= metric < 0:\n",
        "        condition = \"Cloudy\"\n",
        "    else:\n",
        "        condition = \"Rainy\"\n",
        "\n",
        "    print(\n",
        "        f\"Temperature: {temp}, Humidity: {humidity}, Wind Speed: {wind_speed}\\n\"\n",
        "        f\"Weather Condition: {condition}\\n\"\n",
        "    )"
      ],
      "metadata": {
        "colab": {
          "base_uri": "https://localhost:8080/"
        },
        "id": "v4wsr18_5Z2B",
        "outputId": "bf3b3873-5846-4ba1-e010-09b5da8f5f32"
      },
      "execution_count": null,
      "outputs": [
        {
          "output_type": "stream",
          "name": "stdout",
          "text": [
            "Temperature: 25.0, Humidity: 60.0, Wind Speed: 5.0\n",
            "Weather Condition: Sunny\n",
            "\n",
            "Temperature: 15.0, Humidity: 80.0, Wind Speed: 10.0\n",
            "Weather Condition: Sunny\n",
            "\n",
            "Temperature: -5.0, Humidity: 90.0, Wind Speed: 20.0\n",
            "Weather Condition: Rainy\n",
            "\n",
            "Temperature: 10.0, Humidity: 50.0, Wind Speed: 15.0\n",
            "Weather Condition: Sunny\n",
            "\n"
          ]
        }
      ]
    },
    {
      "cell_type": "code",
      "source": [
        "temperature = int(input(\"Input the temperature (°C): \"))\n",
        "humidity = int(input(\"Input the humidity percentage (%): \"))\n",
        "wind_speed = int(input(\"Input the wind speed (km/h): \"))\n",
        "\n",
        "weather_score = (0.5 * (temperature ** 2)) - (0.2 * humidity) + (0.1 * wind_speed) - 15\n",
        "\n",
        "if weather_score > 10:\n",
        "    weather_condition = \"Sunny\"\n",
        "elif 0 <= weather_score <= 10:\n",
        "    weather_condition = \"Windy\"\n",
        "elif -10 <= weather_score < 0:\n",
        "    weather_condition = \"Cloudy\"\n",
        "else:\n",
        "    weather_condition = \"Rainy\"\n",
        "\n",
        "print(\n",
        "    f\"Temperature: {temperature}°C\\n\"\n",
        "    f\"Humidity: {humidity}%\\n\"\n",
        "    f\"Wind Speed: {wind_speed} km/h\\n\"\n",
        "    f\"Weather Condition: {weather_condition}\"\n",
        ")\n"
      ],
      "metadata": {
        "id": "8W0E8rYS9LpY",
        "colab": {
          "base_uri": "https://localhost:8080/"
        },
        "outputId": "f8b2c483-6a63-4cc0-8aee-84eacfcb48a0"
      },
      "execution_count": 8,
      "outputs": [
        {
          "output_type": "stream",
          "name": "stdout",
          "text": [
            "Input the temperature (°C): 27\n",
            "Input the humidity percentage (%): 6\n",
            "Input the wind speed (km/h): 17\n",
            "Temperature: 27°C\n",
            "Humidity: 6%\n",
            "Wind Speed: 17 km/h\n",
            "Weather Condition: Sunny\n"
          ]
        }
      ]
    },
    {
      "cell_type": "code",
      "source": [
        "temperature = int(input(\"Enter temperature in Celsius: \"))\n",
        "humidity_level = int(input(\"Enter humidity percentage: \"))\n",
        "wind_velocity = int(input(\"Enter wind speed in km/h: \"))\n",
        "\n",
        "weather_score = (0.5 * (temperature ** 2)) - (0.2 * humidity_level) + (0.1 * wind_velocity) - 15\n",
        "\n",
        "if weather_score > 10:\n",
        "    weather_condition = \"Clear and Sunny\"\n",
        "elif 0 <= weather_score <= 10:\n",
        "    weather_condition = \"Breezy\"\n",
        "elif -10 <= weather_score < 0:\n",
        "    weather_condition = \"Overcast\"\n",
        "else:\n",
        "    weather_condition = \"Rainy\"\n",
        "\n",
        "print(f\"Temperature: {temperature}°C\")\n",
        "print(f\"Humidity: {humidity_level}%\")\n",
        "print(f\"Wind Speed: {wind_velocity} km/h\")\n",
        "print(f\"Weather Forecast: {weather_condition}\")\n"
      ],
      "metadata": {
        "id": "Cv-O2Hy4ArSC",
        "colab": {
          "base_uri": "https://localhost:8080/"
        },
        "outputId": "f6861189-b1ff-4fd0-c62d-374c1bb585c6"
      },
      "execution_count": 7,
      "outputs": [
        {
          "output_type": "stream",
          "name": "stdout",
          "text": [
            "Enter temperature in Celsius: 12\n",
            "Enter humidity percentage: 5\n",
            "Enter wind speed in km/h: 6\n",
            "Temperature: 12°C\n",
            "Humidity: 5%\n",
            "Wind Speed: 6 km/h\n",
            "Weather Forecast: Clear and Sunny\n"
          ]
        }
      ]
    },
    {
      "cell_type": "code",
      "source": [
        "temp_input = int(input(\"Provide the temperature in °C: \"))\n",
        "humidity_input = int(input(\"Provide the humidity level in percentage (%): \"))\n",
        "wind_speed_input = int(input(\"Provide the wind speed in km/h: \"))\n",
        "\n",
        "weather_indicator = (0.5 * (temp_input ** 2)) - (0.2 * humidity_input) + (0.1 * wind_speed_input) - 15\n",
        "\n",
        "if weather_indicator > 10:\n",
        "    weather_type = \"Sunny\"\n",
        "elif 0 <= weather_indicator <= 10:\n",
        "    weather_type = \"Windy\"\n",
        "elif -10 <= weather_indicator < 0:\n",
        "    weather_type = \"Cloudy\"\n",
        "else:\n",
        "    weather_type = \"Rainy\"\n",
        "\n",
        "print(\n",
        "    f\"Temperature: {temp_input}°C\\n\"\n",
        "    f\"Humidity: {humidity_input}%\\n\"\n",
        "    f\"Wind Speed: {wind_speed_input} km/h\\n\"\n",
        "    f\"Predicted Weather: {weather_type}\"\n",
        ")\n"
      ],
      "metadata": {
        "id": "ONlzx-Yoa-fC",
        "colab": {
          "base_uri": "https://localhost:8080/"
        },
        "outputId": "83349ccb-3bbd-47a7-916f-5c0beac1aa35"
      },
      "execution_count": 6,
      "outputs": [
        {
          "output_type": "stream",
          "name": "stdout",
          "text": [
            "Provide the temperature in °C: 12\n",
            "Provide the humidity level in percentage (%): 22\n",
            "Provide the wind speed in km/h: 58\n",
            "Temperature: 12°C\n",
            "Humidity: 22%\n",
            "Wind Speed: 58 km/h\n",
            "Predicted Weather: Sunny\n"
          ]
        }
      ]
    }
  ]
}